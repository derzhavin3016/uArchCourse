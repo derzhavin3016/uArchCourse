{
 "cells": [
  {
   "cell_type": "code",
   "execution_count": 1,
   "metadata": {},
   "outputs": [],
   "source": [
    "from pathlib import Path\n",
    "import numpy as np\n",
    "from matplotlib import pyplot as plt\n",
    "import json"
   ]
  },
  {
   "cell_type": "code",
   "execution_count": 6,
   "metadata": {},
   "outputs": [],
   "source": [
    "from dataclasses import dataclass, field\n",
    "from statistics import geometric_mean\n",
    "from typing import DefaultDict\n",
    "from collections import defaultdict\n",
    "\n",
    "\n",
    "@dataclass\n",
    "class TraceStat:\n",
    "    insn: int\n",
    "    cycles: int\n",
    "    miss: int\n",
    "    hits: int\n",
    "    hit_rate: float = field(init=False)\n",
    "    ipc: float = field(init=False)\n",
    "\n",
    "    def __post_init__(self):\n",
    "        self.hit_rate = self.hits / (self.miss + self.hits)\n",
    "        self.ipc = self.insn / self.cycles\n",
    "\n",
    "\n",
    "@dataclass\n",
    "class TracelistStats:\n",
    "    stats: dict[str, TraceStat] = field(default_factory=dict)\n",
    "\n",
    "    def add_stat(self, trace_name: str, stat: TraceStat):\n",
    "        self.stats[trace_name] = stat\n",
    "\n",
    "    @property\n",
    "    def hit_rate(self) -> float:\n",
    "        return geometric_mean(map(lambda x: x.hit_rate, self.stats.values()))\n",
    "\n",
    "    @property\n",
    "    def ipc(self) -> float:\n",
    "        return geometric_mean(map(lambda x: x.ipc, self.stats.values()))"
   ]
  },
  {
   "cell_type": "code",
   "execution_count": 7,
   "metadata": {},
   "outputs": [],
   "source": [
    "pred = [\"lru\", \"mru\"]\n",
    "DIR = Path.cwd() / \"results\"\n",
    "stat_dirs = [DIR / p for p in pred]\n",
    "stats: DefaultDict[str, TracelistStats] = defaultdict(TracelistStats)\n",
    "for stat_dir in stat_dirs:\n",
    "    for stat_file in stat_dir.iterdir():\n",
    "        assert stat_file.suffix == \".json\"\n",
    "        with open(stat_file) as f:\n",
    "            data = json.load(f)[0][\"sim\"]\n",
    "        overall = data[\"cores\"][0]\n",
    "        l2c = data[\"cpu0_L2C\"]\n",
    "        stat = TraceStat(\n",
    "            insn=overall[\"instructions\"],\n",
    "            cycles=overall[\"cycles\"],\n",
    "            miss=sum(\n",
    "                map(\n",
    "                    lambda v: v[\"miss\"][0] if isinstance(v, dict) else 0,\n",
    "                    l2c.values(),\n",
    "                )\n",
    "            ),\n",
    "            hits=sum(\n",
    "                map(\n",
    "                    lambda v: v[\"hit\"][0] if isinstance(v, dict) else 0,\n",
    "                    l2c.values(),\n",
    "                )\n",
    "            ),\n",
    "        )\n",
    "        del data\n",
    "        stats[stat_dir.stem].add_stat(stat_file.stem, stat)\n",
    "hrates = dict(zip(stats, map(lambda s: s.hit_rate, stats.values())))\n",
    "ipcs = dict(zip(stats, map(lambda s: s.ipc, stats.values())))"
   ]
  },
  {
   "cell_type": "code",
   "execution_count": 8,
   "metadata": {},
   "outputs": [
    {
     "data": {
      "image/png": "[encoded data removed]",
      "text/plain": [
       "<Figure size 864x360 with 2 Axes>"
      ]
     },
     "metadata": {
      "needs_background": "light"
     },
     "output_type": "display_data"
    }
   ],
   "source": [
    "fig, (ax1, ax2) = plt.subplots(1, 2, figsize=[12, 5])\n",
    "fig.suptitle(\"GMEAN stats\")\n",
    "ax1.set_title(\"HIT RATE\")\n",
    "ax1.bar(hrates.keys(), hrates.values())\n",
    "ax1.grid()\n",
    "\n",
    "ax2.set_title(\"IPC\")\n",
    "ax2.bar(ipcs.keys(), ipcs.values())\n",
    "ax2.grid()"
   ]
  }
 ],
 "metadata": {
  "kernelspec": {
   "display_name": "Python 3",
   "language": "python",
   "name": "python3"
  },
  "language_info": {
   "codemirror_mode": {
    "name": "ipython",
    "version": 3
   },
   "file_extension": ".py",
   "mimetype": "text/x-python",
   "name": "python",
   "nbconvert_exporter": "python",
   "pygments_lexer": "ipython3",
   "version": "3.10.12"
  }
 },
 "nbformat": 4,
 "nbformat_minor": 2
}
